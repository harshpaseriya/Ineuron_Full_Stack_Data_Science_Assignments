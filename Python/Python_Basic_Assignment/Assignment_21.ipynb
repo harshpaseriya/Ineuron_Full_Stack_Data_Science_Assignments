{
  "nbformat": 4,
  "nbformat_minor": 0,
  "metadata": {
    "colab": {
      "name": "Assignment_21.ipynb",
      "provenance": []
    },
    "kernelspec": {
      "name": "python3",
      "display_name": "Python 3"
    },
    "language_info": {
      "name": "python"
    }
  },
  "cells": [
    {
      "cell_type": "markdown",
      "source": [
        "1 Add the current date to the text file today.txt as a string.\n",
        "\n",
        "\n"
      ],
      "metadata": {
        "id": "Eljr4fkRb_Sk"
      }
    },
    {
      "cell_type": "code",
      "execution_count": 15,
      "metadata": {
        "colab": {
          "base_uri": "https://localhost:8080/"
        },
        "id": "nUkTSyUQblLR",
        "outputId": "f4907040-411f-4326-d698-744d1d689937"
      },
      "outputs": [
        {
          "output_type": "stream",
          "name": "stdout",
          "text": [
            "29-06-2022\n"
          ]
        }
      ],
      "source": [
        "import datetime\n",
        "# Code to Add current date to the today.txt file\n",
        "file = open('today.txt','w')\n",
        "file.write(datetime.datetime.now().strftime(\"%d-%m-%Y\"))\n",
        "file.close()\n",
        "# Code to Read current date from today.txt file\n",
        "file = open('today.txt','r')\n",
        "print(file.read())\n",
        "file.close()"
      ]
    },
    {
      "cell_type": "markdown",
      "source": [
        "2 Read the text file today.txt into the string today_string\n"
      ],
      "metadata": {
        "id": "CVn3cXgYcUo2"
      }
    },
    {
      "cell_type": "code",
      "source": [
        "file = open('today.txt','r')\n",
        "today_string = file.read()\n",
        "print(today_string)\n"
      ],
      "metadata": {
        "colab": {
          "base_uri": "https://localhost:8080/"
        },
        "id": "xpWQ2vc6cPT1",
        "outputId": "babe8f7f-ad03-46b8-e228-6dd7f1abfdf6"
      },
      "execution_count": 16,
      "outputs": [
        {
          "output_type": "stream",
          "name": "stdout",
          "text": [
            "29-06-2022\n"
          ]
        }
      ]
    },
    {
      "cell_type": "markdown",
      "source": [
        "3 Parse the date from today_string.\n"
      ],
      "metadata": {
        "id": "sYlbfCDucuAZ"
      }
    },
    {
      "cell_type": "code",
      "source": [
        "from datetime import datetime\n",
        "parsed_data = datetime.strptime(today_string, '%d-%m-%Y')\n",
        "print(parsed_data)"
      ],
      "metadata": {
        "colab": {
          "base_uri": "https://localhost:8080/"
        },
        "id": "09St2OPucVqB",
        "outputId": "d8b59696-3c59-4d16-c24a-b5040472e939"
      },
      "execution_count": 17,
      "outputs": [
        {
          "output_type": "stream",
          "name": "stdout",
          "text": [
            "2022-06-29 00:00:00\n"
          ]
        }
      ]
    },
    {
      "cell_type": "markdown",
      "source": [
        "4 List the files in your current directory\n"
      ],
      "metadata": {
        "id": "cvKj2riKdFMg"
      }
    },
    {
      "cell_type": "code",
      "source": [
        "import os\n",
        "for folders, subfolders, files in os.walk(os.getcwd()):\n",
        "    for file in files:\n",
        "        print(file)"
      ],
      "metadata": {
        "colab": {
          "base_uri": "https://localhost:8080/"
        },
        "id": "sMNHmm-hdBsB",
        "outputId": "49aed123-7b7e-4109-9922-9288eb69dd2a"
      },
      "execution_count": 18,
      "outputs": [
        {
          "output_type": "stream",
          "name": "stdout",
          "text": [
            "books.db\n",
            "books.csv\n",
            "today.txt\n",
            "test.txt\n",
            ".last_survey_prompt.yaml\n",
            "active_config\n",
            "config_sentinel\n",
            ".last_opt_in_prompt.yaml\n",
            "gce\n",
            ".last_update_check.json\n",
            "13.41.53.804987.log\n",
            "13.41.26.949194.log\n",
            "13.41.53.140518.log\n",
            "13.41.34.237699.log\n",
            "13.41.09.043730.log\n",
            "13.40.48.132932.log\n",
            "config_default\n",
            "README.md\n",
            "anscombe.json\n",
            "mnist_test.csv\n",
            "mnist_train_small.csv\n",
            "california_housing_train.csv\n",
            "california_housing_test.csv\n"
          ]
        }
      ]
    },
    {
      "cell_type": "markdown",
      "source": [
        "5 Create a list of all of the files in your parent directory (minimum five files should be available).\n"
      ],
      "metadata": {
        "id": "SXikjDJndPzk"
      }
    },
    {
      "cell_type": "code",
      "source": [
        "import os \n",
        "os.listdir()"
      ],
      "metadata": {
        "colab": {
          "base_uri": "https://localhost:8080/"
        },
        "id": "4R8_ftubdL5l",
        "outputId": "1ff57df2-54a7-43ad-fe0d-a924644e705c"
      },
      "execution_count": 19,
      "outputs": [
        {
          "output_type": "execute_result",
          "data": {
            "text/plain": [
              "['.config', 'books.db', 'books.csv', 'today.txt', 'test.txt', 'sample_data']"
            ]
          },
          "metadata": {},
          "execution_count": 19
        }
      ]
    },
    {
      "cell_type": "markdown",
      "source": [
        "6 Use multiprocessing to create three separate processes. Make each one wait a random number of seconds between one and five, print the current time, and then exit.\n"
      ],
      "metadata": {
        "id": "fqxa6XqldXNq"
      }
    },
    {
      "cell_type": "code",
      "source": [
        "import multiprocessing\n",
        "import time \n",
        "import random\n",
        "import datetime\n",
        "\n",
        "def procOne():\n",
        "    print(f'Proc_one_Starttime -> {datetime.datetime.now()}')\n",
        "    time.sleep(random.randint(1,5))\n",
        "    print(f'Proc_one_Endtime -> {datetime.datetime.now()}')\n",
        "    \n",
        "def procTwo():\n",
        "    print(f'Proc_two_Starttime -> {datetime.datetime.now()}')\n",
        "    time.sleep(random.randint(1,5))\n",
        "    print(f'Proc_two_Endtime -> {datetime.datetime.now()}')\n",
        "\n",
        "def procThree():\n",
        "    print(f'Proc_two_Starttime -> {datetime.datetime.now()}')\n",
        "    time.sleep(random.randint(1,5))\n",
        "    print(f'Proc_two_Endtime -> {datetime.datetime.now()}')\n",
        "    \n",
        "if __name__ == \"__main__\":    \n",
        "    p1 = multiprocessing.Process(target=procOne)\n",
        "    p2 = multiprocessing.Process(target=procTwo)\n",
        "    p3 = multiprocessing.Process(target=procThree)\n",
        "\n",
        "    p1.start()\n",
        "    p2.start()\n",
        "    p3.start()\n",
        "\n",
        "    p1.join()\n",
        "    p2.join()\n",
        "    p3.join()"
      ],
      "metadata": {
        "colab": {
          "base_uri": "https://localhost:8080/"
        },
        "id": "aUddg1MRdTjr",
        "outputId": "e96b39c4-29ef-4006-d797-aa50cdcee7a6"
      },
      "execution_count": 20,
      "outputs": [
        {
          "output_type": "stream",
          "name": "stdout",
          "text": [
            "Proc_one_Starttime -> 2022-06-29 03:34:17.497113\n",
            "Proc_two_Starttime -> 2022-06-29 03:34:17.514964\n",
            "Proc_two_Starttime -> 2022-06-29 03:34:17.517946\n",
            "Proc_two_Endtime -> 2022-06-29 03:34:18.521960\n",
            "Proc_one_Endtime -> 2022-06-29 03:34:19.513598\n",
            "Proc_two_Endtime -> 2022-06-29 03:34:20.531364\n"
          ]
        }
      ]
    },
    {
      "cell_type": "markdown",
      "source": [
        "7 Create a date object of your day of birth.\n",
        "\n"
      ],
      "metadata": {
        "id": "zDZtPWs-ddPw"
      }
    },
    {
      "cell_type": "code",
      "source": [
        "from datetime import datetime\n",
        "my_dob = datetime.strptime('01/12/1994','%d/%m/%Y')\n",
        "print(my_dob, type)"
      ],
      "metadata": {
        "colab": {
          "base_uri": "https://localhost:8080/"
        },
        "id": "GuqYS4WAdbMJ",
        "outputId": "e9828744-c0f6-4ea5-b23e-26360c557d9f"
      },
      "execution_count": 23,
      "outputs": [
        {
          "output_type": "stream",
          "name": "stdout",
          "text": [
            "1994-12-01 00:00:00 <class 'type'>\n"
          ]
        }
      ]
    },
    {
      "cell_type": "markdown",
      "source": [
        "8 What day of the week was your day of birth?\n",
        "\n",
        "\n"
      ],
      "metadata": {
        "id": "kg5gd6JPdlha"
      }
    },
    {
      "cell_type": "code",
      "source": [
        "from datetime import datetime\n",
        "my_dob = datetime(1994,12,1)\n",
        "my_dob.strftime(\"%A\")"
      ],
      "metadata": {
        "colab": {
          "base_uri": "https://localhost:8080/",
          "height": 36
        },
        "id": "LFjdxB3SdidJ",
        "outputId": "d48ab51b-eaf9-450d-e4d8-8901c5c28f68"
      },
      "execution_count": 25,
      "outputs": [
        {
          "output_type": "execute_result",
          "data": {
            "text/plain": [
              "'Thursday'"
            ],
            "application/vnd.google.colaboratory.intrinsic+json": {
              "type": "string"
            }
          },
          "metadata": {},
          "execution_count": 25
        }
      ]
    },
    {
      "cell_type": "markdown",
      "source": [
        "9 When will you be (or when were you) 10,000 days old?\n"
      ],
      "metadata": {
        "id": "idx-ODrGdr5i"
      }
    },
    {
      "cell_type": "code",
      "source": [
        "from datetime import datetime, timedelta\n",
        "my_dob = datetime.strptime(\"1/12/1994\",'%d/%m/%Y')\n",
        "future_date = my_dob-timedelta(10000)\n",
        "future_date"
      ],
      "metadata": {
        "colab": {
          "base_uri": "https://localhost:8080/"
        },
        "id": "DTiuU9PodqGa",
        "outputId": "b606291c-5b02-4445-cf94-60e0b9d2f340"
      },
      "execution_count": 27,
      "outputs": [
        {
          "output_type": "execute_result",
          "data": {
            "text/plain": [
              "datetime.datetime(1967, 7, 16, 0, 0)"
            ]
          },
          "metadata": {},
          "execution_count": 27
        }
      ]
    },
    {
      "cell_type": "code",
      "source": [
        ""
      ],
      "metadata": {
        "id": "BaRZgtg-iiGp"
      },
      "execution_count": null,
      "outputs": []
    }
  ]
}