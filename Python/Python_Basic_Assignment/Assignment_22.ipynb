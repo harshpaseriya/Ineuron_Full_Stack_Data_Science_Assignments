{
  "nbformat": 4,
  "nbformat_minor": 0,
  "metadata": {
    "colab": {
      "name": "Assignment_22.ipynb",
      "provenance": []
    },
    "kernelspec": {
      "name": "python3",
      "display_name": "Python 3"
    },
    "language_info": {
      "name": "python"
    }
  },
  "cells": [
    {
      "cell_type": "markdown",
      "source": [
        "1 What is the result of the code, and explain?\n",
        "\n",
        ">>> X = 'iNeuron'\n",
        "\n",
        ">>> def func():\n",
        "\n",
        "print(X)\n",
        "\n",
        ">>> func()\n",
        "\n",
        "Ans: The Result of this code is iNeuron, it's because the function intially looks for the variable X in its local scope,But since there is no local variable X, its returns the value of global variable x ie iNeuron\n",
        "\n",
        "\n"
      ],
      "metadata": {
        "id": "Eljr4fkRb_Sk"
      }
    },
    {
      "cell_type": "code",
      "execution_count": 28,
      "metadata": {
        "colab": {
          "base_uri": "https://localhost:8080/"
        },
        "id": "nUkTSyUQblLR",
        "outputId": "54530d65-ed04-4a43-97ad-8f8325802327"
      },
      "outputs": [
        {
          "output_type": "stream",
          "name": "stdout",
          "text": [
            "iNeuron\n"
          ]
        }
      ],
      "source": [
        "X = 'iNeuron'\n",
        "def func():\n",
        "    print(X)\n",
        "func()"
      ]
    },
    {
      "cell_type": "markdown",
      "source": [
        "2 What is the result of the code, and explain?\n",
        "\n",
        ">>> X = 'iNeuron'\n",
        "\n",
        ">>> def func():\n",
        "\n",
        "                X = 'NI!'\n",
        "\n",
        ">>> func()\n",
        "\n",
        ">>> print(X)\n",
        "\n",
        "Ans: The Result of this cide is NI!, because the function initially looks for the variable X in its local scope if X is not available then it checks for variable X in the global scope, Since here the X is present in the local scope. it prints the value NI!\n",
        "\n"
      ],
      "metadata": {
        "id": "CVn3cXgYcUo2"
      }
    },
    {
      "cell_type": "code",
      "source": [
        "X = 'iNeuron'\n",
        "def func():\n",
        "    X = 'NI!'\n",
        "    print(X)\n",
        "func()"
      ],
      "metadata": {
        "colab": {
          "base_uri": "https://localhost:8080/"
        },
        "id": "xpWQ2vc6cPT1",
        "outputId": "8e318550-aa7e-4f0c-9388-97d8064d4105"
      },
      "execution_count": 29,
      "outputs": [
        {
          "output_type": "stream",
          "name": "stdout",
          "text": [
            "NI!\n"
          ]
        }
      ]
    },
    {
      "cell_type": "markdown",
      "source": [
        "3 What does this code print, and why?\n",
        "\n",
        ">>> X = 'iNeuron'\n",
        "\n",
        ">>> def func():\n",
        "\n",
        "X = 'NI'\n",
        "\n",
        "print(X)\n",
        "\n",
        ">>> func()\n",
        "\n",
        ">>> print(X)\n",
        "\n",
        "\n",
        "Ans: The output of the code is NI and iNeuron. X=NI is in the local scope of the function func() hence the function prints the x value as NI. X = 'iNeuron' is in the global scope. hence print(X) prints output as iNeuron"
      ],
      "metadata": {
        "id": "sYlbfCDucuAZ"
      }
    },
    {
      "cell_type": "code",
      "source": [
        "X = 'iNeuron'\n",
        "def func():\n",
        "    X = 'NI'\n",
        "    print(X)\n",
        "func()\n",
        "print(X)"
      ],
      "metadata": {
        "colab": {
          "base_uri": "https://localhost:8080/"
        },
        "id": "09St2OPucVqB",
        "outputId": "67781dc7-f252-4d8a-8ca0-e63dd885c75f"
      },
      "execution_count": 30,
      "outputs": [
        {
          "output_type": "stream",
          "name": "stdout",
          "text": [
            "NI\n",
            "iNeuron\n"
          ]
        }
      ]
    },
    {
      "cell_type": "markdown",
      "source": [
        "4 What output does this code produce? Why?\n",
        "\n",
        ">>> X = 'iNeuron'\n",
        "\n",
        ">>> def func():\n",
        "\n",
        "global X\n",
        "\n",
        "X = 'NI'\n",
        "\n",
        ">>> func()\n",
        "\n",
        ">>> print(X)\n",
        "\n",
        "Ans: The output of the code is NI. the global keyword allows a variable to be accessible in the current scope. since we are using global keyword inside the function func it directly access the variable in X in global scope. and changes its value to NI. hence the output of the code is NI"
      ],
      "metadata": {
        "id": "cvKj2riKdFMg"
      }
    },
    {
      "cell_type": "code",
      "source": [
        "X = 'iNeuron'\n",
        "def func():\n",
        "    global X\n",
        "    X = 'NI'\n",
        "func()\n",
        "print(X)"
      ],
      "metadata": {
        "colab": {
          "base_uri": "https://localhost:8080/"
        },
        "id": "sMNHmm-hdBsB",
        "outputId": "7e745568-de68-4772-df63-1699bc893487"
      },
      "execution_count": 31,
      "outputs": [
        {
          "output_type": "stream",
          "name": "stdout",
          "text": [
            "NI\n"
          ]
        }
      ]
    },
    {
      "cell_type": "markdown",
      "source": [
        "5 What about this code—what’s the output, and why?\n",
        ">>> X = 'iNeuron'\n",
        "\n",
        ">>> def func():\n",
        "\n",
        "X = 'NI'\n",
        "\n",
        "def nested():\n",
        "\n",
        "print(X)\n",
        "\n",
        "nested()\n",
        "\n",
        ">>> func()\n",
        "\n",
        ">>> X\n",
        "\n",
        "Ans: The output of the code is NI. the reason for this output is if a function wants to access a variable, if its not available in its localscope. it looks for the variable in its global scope. similarly here also function nested looks for variable X in its global scope. hence the output of the code is NI\n",
        "\n"
      ],
      "metadata": {
        "id": "SXikjDJndPzk"
      }
    },
    {
      "cell_type": "code",
      "source": [
        "X = 'iNeuron'\n",
        "def func():\n",
        "    X = 'NI'\n",
        "    def nested():\n",
        "        print(X)\n",
        "    nested()\n",
        "func()\n",
        "X"
      ],
      "metadata": {
        "colab": {
          "base_uri": "https://localhost:8080/",
          "height": 54
        },
        "id": "4R8_ftubdL5l",
        "outputId": "5dddfff3-b2ca-4ab5-9677-25c2923681d1"
      },
      "execution_count": 32,
      "outputs": [
        {
          "output_type": "stream",
          "name": "stdout",
          "text": [
            "NI\n"
          ]
        },
        {
          "output_type": "execute_result",
          "data": {
            "text/plain": [
              "'iNeuron'"
            ],
            "application/vnd.google.colaboratory.intrinsic+json": {
              "type": "string"
            }
          },
          "metadata": {},
          "execution_count": 32
        }
      ]
    },
    {
      "cell_type": "markdown",
      "source": [
        "6 How about this code: what is its output in Python 3, and explain?\n",
        "\n",
        ">>> def func():\n",
        "\n",
        "X = 'NI'\n",
        "\n",
        "def nested():\n",
        "\n",
        "nonlocal X\n",
        "\n",
        "X = 'Spam'\n",
        "\n",
        "nested()\n",
        "\n",
        "print(X)\n",
        "\n",
        ">>> func()\n",
        "\n",
        "Ans: The output of the code is Spam. nonlocal keyword in python is used to declare a variable as not local.Hence the statement X = \"Spam\" is modified in the global scope. hence the output of print(X) statement is Spam"
      ],
      "metadata": {
        "id": "fqxa6XqldXNq"
      }
    },
    {
      "cell_type": "code",
      "source": [
        "def func():\n",
        "    X = 'NI'\n",
        "    def nested():\n",
        "        nonlocal X\n",
        "        X = 'Spam'\n",
        "    nested()\n",
        "    print(X)\n",
        "func()"
      ],
      "metadata": {
        "colab": {
          "base_uri": "https://localhost:8080/"
        },
        "id": "aUddg1MRdTjr",
        "outputId": "04f4d901-0c32-41ba-e977-61d2e9618476"
      },
      "execution_count": 33,
      "outputs": [
        {
          "output_type": "stream",
          "name": "stdout",
          "text": [
            "Spam\n"
          ]
        }
      ]
    }
  ]
}